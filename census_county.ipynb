{
 "cells": [
  {
   "cell_type": "code",
   "execution_count": 1,
   "metadata": {},
   "outputs": [],
   "source": [
    "\n",
    "%matplotlib inline\n",
    "import requests,pandas as pd\n",
    "import numpy as np\n",
    "import requests\n",
    "import csv \n",
    "import matplotlib.pyplot as plt"
   ]
  },
  {
   "cell_type": "code",
   "execution_count": 2,
   "metadata": {},
   "outputs": [],
   "source": [
    "# Store filepath in a variable\n",
    "xxcensus_mgv = \"Resources/2020mortgage_value.csv\"\n",
    "xxcensus_mdv = \"Resources/2020mortgagemed_value.csv\"\n",
    "xvcensus_mgv = \"Resources/2015mortgage_value.csv\"\n",
    "xvcensus_mdv = \"Resources/2015mortgagemed_value.csv\"\n",
    "xcensus_mdv = \"Resources/2010mortgagemed_value.csv\"\n",
    "xcensus_mgv = \"Resources/2010mortgage_value.csv\""
   ]
  },
  {
   "cell_type": "code",
   "execution_count": 3,
   "metadata": {},
   "outputs": [],
   "source": [
    "#Read in csv files\n",
    "xxcensus_mdv_df = pd.read_csv(xxcensus_mdv)\n",
    "xvcensus_mdv_df = pd.read_csv(xvcensus_mdv)\n",
    "xcensus_mdv_df = pd.read_csv(xcensus_mdv)\n"
   ]
  },
  {
   "cell_type": "code",
   "execution_count": 4,
   "metadata": {},
   "outputs": [
    {
     "data": {
      "text/html": [
       "<div>\n",
       "<style scoped>\n",
       "    .dataframe tbody tr th:only-of-type {\n",
       "        vertical-align: middle;\n",
       "    }\n",
       "\n",
       "    .dataframe tbody tr th {\n",
       "        vertical-align: top;\n",
       "    }\n",
       "\n",
       "    .dataframe thead th {\n",
       "        text-align: right;\n",
       "    }\n",
       "</style>\n",
       "<table border=\"1\" class=\"dataframe\">\n",
       "  <thead>\n",
       "    <tr style=\"text-align: right;\">\n",
       "      <th></th>\n",
       "      <th>Label (Grouping)</th>\n",
       "      <th>United States!!Estimate</th>\n",
       "      <th>United States!!Margin of Error</th>\n",
       "      <th>Los Angeles County, California!!Estimate</th>\n",
       "      <th>Los Angeles County, California!!Margin of Error</th>\n",
       "      <th>Clark County, Nevada!!Estimate</th>\n",
       "      <th>Clark County, Nevada!!Margin of Error</th>\n",
       "    </tr>\n",
       "  </thead>\n",
       "  <tbody>\n",
       "    <tr>\n",
       "      <th>0</th>\n",
       "      <td>Median value --</td>\n",
       "      <td>NaN</td>\n",
       "      <td>NaN</td>\n",
       "      <td>NaN</td>\n",
       "      <td>NaN</td>\n",
       "      <td>NaN</td>\n",
       "      <td>NaN</td>\n",
       "    </tr>\n",
       "    <tr>\n",
       "      <th>1</th>\n",
       "      <td>Total:</td>\n",
       "      <td>188,400</td>\n",
       "      <td>±184</td>\n",
       "      <td>508,800</td>\n",
       "      <td>±2,038</td>\n",
       "      <td>257,300</td>\n",
       "      <td>±1,859</td>\n",
       "    </tr>\n",
       "    <tr>\n",
       "      <th>2</th>\n",
       "      <td>Median value for units with a mortgage</td>\n",
       "      <td>208,900</td>\n",
       "      <td>±238</td>\n",
       "      <td>517,200</td>\n",
       "      <td>±2,295</td>\n",
       "      <td>265,100</td>\n",
       "      <td>±1,919</td>\n",
       "    </tr>\n",
       "    <tr>\n",
       "      <th>3</th>\n",
       "      <td>Median value for units without a mortgage</td>\n",
       "      <td>148,300</td>\n",
       "      <td>±252</td>\n",
       "      <td>483,600</td>\n",
       "      <td>±3,378</td>\n",
       "      <td>224,500</td>\n",
       "      <td>±3,222</td>\n",
       "    </tr>\n",
       "  </tbody>\n",
       "</table>\n",
       "</div>"
      ],
      "text/plain": [
       "                                    Label (Grouping) United States!!Estimate  \\\n",
       "0                                    Median value --                     NaN   \n",
       "1                                             Total:                 188,400   \n",
       "2             Median value for units with a mortgage                 208,900   \n",
       "3          Median value for units without a mortgage                 148,300   \n",
       "\n",
       "  United States!!Margin of Error Los Angeles County, California!!Estimate  \\\n",
       "0                            NaN                                      NaN   \n",
       "1                           ±184                                  508,800   \n",
       "2                           ±238                                  517,200   \n",
       "3                           ±252                                  483,600   \n",
       "\n",
       "  Los Angeles County, California!!Margin of Error  \\\n",
       "0                                             NaN   \n",
       "1                                          ±2,038   \n",
       "2                                          ±2,295   \n",
       "3                                          ±3,378   \n",
       "\n",
       "  Clark County, Nevada!!Estimate Clark County, Nevada!!Margin of Error  \n",
       "0                            NaN                                   NaN  \n",
       "1                        257,300                                ±1,859  \n",
       "2                        265,100                                ±1,919  \n",
       "3                        224,500                                ±3,222  "
      ]
     },
     "execution_count": 4,
     "metadata": {},
     "output_type": "execute_result"
    }
   ],
   "source": [
    "xcensus_mdv_df"
   ]
  },
  {
   "cell_type": "code",
   "execution_count": 5,
   "metadata": {},
   "outputs": [
    {
     "data": {
      "text/html": [
       "<div>\n",
       "<style scoped>\n",
       "    .dataframe tbody tr th:only-of-type {\n",
       "        vertical-align: middle;\n",
       "    }\n",
       "\n",
       "    .dataframe tbody tr th {\n",
       "        vertical-align: top;\n",
       "    }\n",
       "\n",
       "    .dataframe thead th {\n",
       "        text-align: right;\n",
       "    }\n",
       "</style>\n",
       "<table border=\"1\" class=\"dataframe\">\n",
       "  <thead>\n",
       "    <tr style=\"text-align: right;\">\n",
       "      <th></th>\n",
       "      <th>Label (Grouping)</th>\n",
       "      <th>United States!!Estimate</th>\n",
       "      <th>United States!!Margin of Error</th>\n",
       "      <th>Los Angeles County, California!!Estimate</th>\n",
       "      <th>Los Angeles County, California!!Margin of Error</th>\n",
       "      <th>Clark County, Nevada!!Estimate</th>\n",
       "      <th>Clark County, Nevada!!Margin of Error</th>\n",
       "    </tr>\n",
       "  </thead>\n",
       "  <tbody>\n",
       "    <tr>\n",
       "      <th>0</th>\n",
       "      <td>Median value --</td>\n",
       "      <td>NaN</td>\n",
       "      <td>NaN</td>\n",
       "      <td>NaN</td>\n",
       "      <td>NaN</td>\n",
       "      <td>NaN</td>\n",
       "      <td>NaN</td>\n",
       "    </tr>\n",
       "    <tr>\n",
       "      <th>1</th>\n",
       "      <td>Total:</td>\n",
       "      <td>178,600</td>\n",
       "      <td>±133</td>\n",
       "      <td>441,900</td>\n",
       "      <td>±1,285</td>\n",
       "      <td>170,400</td>\n",
       "      <td>±1,006</td>\n",
       "    </tr>\n",
       "    <tr>\n",
       "      <th>2</th>\n",
       "      <td>Median value for units with a mortgage</td>\n",
       "      <td>196,600</td>\n",
       "      <td>±160</td>\n",
       "      <td>443,400</td>\n",
       "      <td>±1,435</td>\n",
       "      <td>172,300</td>\n",
       "      <td>±1,217</td>\n",
       "    </tr>\n",
       "    <tr>\n",
       "      <th>3</th>\n",
       "      <td>Median value for units without a mortgage</td>\n",
       "      <td>149,800</td>\n",
       "      <td>±252</td>\n",
       "      <td>437,100</td>\n",
       "      <td>±3,325</td>\n",
       "      <td>164,000</td>\n",
       "      <td>±2,203</td>\n",
       "    </tr>\n",
       "  </tbody>\n",
       "</table>\n",
       "</div>"
      ],
      "text/plain": [
       "                                    Label (Grouping) United States!!Estimate  \\\n",
       "0                                    Median value --                     NaN   \n",
       "1                                             Total:                 178,600   \n",
       "2             Median value for units with a mortgage                 196,600   \n",
       "3          Median value for units without a mortgage                 149,800   \n",
       "\n",
       "  United States!!Margin of Error Los Angeles County, California!!Estimate  \\\n",
       "0                            NaN                                      NaN   \n",
       "1                           ±133                                  441,900   \n",
       "2                           ±160                                  443,400   \n",
       "3                           ±252                                  437,100   \n",
       "\n",
       "  Los Angeles County, California!!Margin of Error  \\\n",
       "0                                             NaN   \n",
       "1                                          ±1,285   \n",
       "2                                          ±1,435   \n",
       "3                                          ±3,325   \n",
       "\n",
       "  Clark County, Nevada!!Estimate Clark County, Nevada!!Margin of Error  \n",
       "0                            NaN                                   NaN  \n",
       "1                        170,400                                ±1,006  \n",
       "2                        172,300                                ±1,217  \n",
       "3                        164,000                                ±2,203  "
      ]
     },
     "execution_count": 5,
     "metadata": {},
     "output_type": "execute_result"
    }
   ],
   "source": [
    "xvcensus_mdv_df"
   ]
  },
  {
   "cell_type": "code",
   "execution_count": 6,
   "metadata": {},
   "outputs": [
    {
     "data": {
      "text/html": [
       "<div>\n",
       "<style scoped>\n",
       "    .dataframe tbody tr th:only-of-type {\n",
       "        vertical-align: middle;\n",
       "    }\n",
       "\n",
       "    .dataframe tbody tr th {\n",
       "        vertical-align: top;\n",
       "    }\n",
       "\n",
       "    .dataframe thead th {\n",
       "        text-align: right;\n",
       "    }\n",
       "</style>\n",
       "<table border=\"1\" class=\"dataframe\">\n",
       "  <thead>\n",
       "    <tr style=\"text-align: right;\">\n",
       "      <th></th>\n",
       "      <th>Label (Grouping)</th>\n",
       "      <th>United States!!Estimate</th>\n",
       "      <th>United States!!Margin of Error</th>\n",
       "      <th>Los Angeles County, California!!Estimate</th>\n",
       "      <th>Los Angeles County, California!!Margin of Error</th>\n",
       "      <th>Clark County, Nevada!!Estimate</th>\n",
       "      <th>Clark County, Nevada!!Margin of Error</th>\n",
       "    </tr>\n",
       "  </thead>\n",
       "  <tbody>\n",
       "    <tr>\n",
       "      <th>0</th>\n",
       "      <td>Median value --</td>\n",
       "      <td>NaN</td>\n",
       "      <td>NaN</td>\n",
       "      <td>NaN</td>\n",
       "      <td>NaN</td>\n",
       "      <td>NaN</td>\n",
       "      <td>NaN</td>\n",
       "    </tr>\n",
       "    <tr>\n",
       "      <th>1</th>\n",
       "      <td>Total:</td>\n",
       "      <td>229,800</td>\n",
       "      <td>±188</td>\n",
       "      <td>615,500</td>\n",
       "      <td>±1,605</td>\n",
       "      <td>285,100</td>\n",
       "      <td>±1,625</td>\n",
       "    </tr>\n",
       "    <tr>\n",
       "      <th>2</th>\n",
       "      <td>Median value for units with a mortgage</td>\n",
       "      <td>251,700</td>\n",
       "      <td>±339</td>\n",
       "      <td>620,700</td>\n",
       "      <td>±2,206</td>\n",
       "      <td>291,300</td>\n",
       "      <td>±1,817</td>\n",
       "    </tr>\n",
       "    <tr>\n",
       "      <th>3</th>\n",
       "      <td>Median value for units without a mortgage</td>\n",
       "      <td>187,200</td>\n",
       "      <td>±321</td>\n",
       "      <td>601,600</td>\n",
       "      <td>±3,202</td>\n",
       "      <td>266,300</td>\n",
       "      <td>±3,456</td>\n",
       "    </tr>\n",
       "  </tbody>\n",
       "</table>\n",
       "</div>"
      ],
      "text/plain": [
       "                                    Label (Grouping) United States!!Estimate  \\\n",
       "0                                    Median value --                     NaN   \n",
       "1                                             Total:                 229,800   \n",
       "2             Median value for units with a mortgage                 251,700   \n",
       "3          Median value for units without a mortgage                 187,200   \n",
       "\n",
       "  United States!!Margin of Error Los Angeles County, California!!Estimate  \\\n",
       "0                            NaN                                      NaN   \n",
       "1                           ±188                                  615,500   \n",
       "2                           ±339                                  620,700   \n",
       "3                           ±321                                  601,600   \n",
       "\n",
       "  Los Angeles County, California!!Margin of Error  \\\n",
       "0                                             NaN   \n",
       "1                                          ±1,605   \n",
       "2                                          ±2,206   \n",
       "3                                          ±3,202   \n",
       "\n",
       "  Clark County, Nevada!!Estimate Clark County, Nevada!!Margin of Error  \n",
       "0                            NaN                                   NaN  \n",
       "1                        285,100                                ±1,625  \n",
       "2                        291,300                                ±1,817  \n",
       "3                        266,300                                ±3,456  "
      ]
     },
     "execution_count": 6,
     "metadata": {},
     "output_type": "execute_result"
    }
   ],
   "source": [
    "xxcensus_mdv_df"
   ]
  },
  {
   "cell_type": "code",
   "execution_count": 8,
   "metadata": {},
   "outputs": [],
   "source": [
    "#create an array from the Los Angeles County and Clark County median value for units with a mortgage from 2010, 2015, and 2020 US Census info\n",
    "# Create an array that contains the number of median mortage value for each census year\n",
    "med_value = [517200, 443400, 620700]\n",
    "x_axis = np.arange(len(med_value))\n",
    "years=[\"2010\", \"2015\", \"2020\"]"
   ]
  },
  {
   "cell_type": "code",
   "execution_count": 9,
   "metadata": {},
   "outputs": [
    {
     "data": {
      "text/plain": [
       "<BarContainer object of 3 artists>"
      ]
     },
     "execution_count": 9,
     "metadata": {},
     "output_type": "execute_result"
    },
    {
     "data": {
      "image/png": "[encoded data removed]",
      "text/plain": [
       "<Figure size 432x288 with 1 Axes>"
      ]
     },
     "metadata": {
      "needs_background": "light"
     },
     "output_type": "display_data"
    }
   ],
   "source": [
    "# Tell matplotlib that we will be making a bar chart\n",
    "# Users is our y axis and x_axis is, of course, our x axis\n",
    "# We apply align=\"edge\" to ensure our bars line up with our tick marks\n",
    "plt.bar(x_axis, med_value, color='r', alpha=0.5, align=\"center\")"
   ]
  },
  {
   "cell_type": "code",
   "execution_count": 10,
   "metadata": {},
   "outputs": [
    {
     "data": {
      "text/plain": [
       "([<matplotlib.axis.XTick at 0x273b5feba20>,\n",
       "  <matplotlib.axis.XTick at 0x273b5feb9e8>,\n",
       "  <matplotlib.axis.XTick at 0x273b5feb630>],\n",
       " [Text(0, 0, '2010'), Text(0, 0, '2015'), Text(0, 0, '2020')])"
      ]
     },
     "execution_count": 10,
     "metadata": {},
     "output_type": "execute_result"
    },
    {
     "data": {
      "image/png": "[encoded data removed]",
      "text/plain": [
       "<Figure size 432x288 with 1 Axes>"
      ]
     },
     "metadata": {
      "needs_background": "light"
     },
     "output_type": "display_data"
    }
   ],
   "source": [
    "# Tell matplotlib where we would like to place each of our x axis headers\n",
    "tick_locations = [value for value in x_axis]\n",
    "plt.xticks(tick_locations, years)"
   ]
  },
  {
   "cell_type": "code",
   "execution_count": 10,
   "metadata": {},
   "outputs": [
    {
     "data": {
      "text/plain": [
       "(-0.75, 2.75)"
      ]
     },
     "execution_count": 10,
     "metadata": {},
     "output_type": "execute_result"
    },
    {
     "data": {
      "image/png": "[encoded data removed]",
      "text/plain": [
       "<Figure size 432x288 with 1 Axes>"
      ]
     },
     "metadata": {
      "needs_background": "light"
     },
     "output_type": "display_data"
    }
   ],
   "source": [
    "# Sets the x limits of the current chart\n",
    "#plt.xlim(-0.75, len(x_axis)-0.25)"
   ]
  },
  {
   "cell_type": "code",
   "execution_count": 11,
   "metadata": {},
   "outputs": [
    {
     "data": {
      "text/plain": [
       "(0.0, 628700.0)"
      ]
     },
     "execution_count": 11,
     "metadata": {},
     "output_type": "execute_result"
    },
    {
     "data": {
      "image/png": "[encoded data removed]",
      "text/plain": [
       "<Figure size 432x288 with 1 Axes>"
      ]
     },
     "metadata": {
      "needs_background": "light"
     },
     "output_type": "display_data"
    }
   ],
   "source": [
    "# Sets the y limits of the current chart\n",
    "plt.ylim(0, max(med_value)+8000)"
   ]
  },
  {
   "cell_type": "code",
   "execution_count": 12,
   "metadata": {},
   "outputs": [
    {
     "data": {
      "text/plain": [
       "Text(0, 0.5, 'Median Mortgage Value')"
      ]
     },
     "execution_count": 12,
     "metadata": {},
     "output_type": "execute_result"
    },
    {
     "data": {
      "image/png": "[encoded data removed]",
      "text/plain": [
       "<Figure size 432x288 with 1 Axes>"
      ]
     },
     "metadata": {
      "needs_background": "light"
     },
     "output_type": "display_data"
    }
   ],
   "source": [
    "# Give our chart some labels and a tile\n",
    "plt.title(\"Mortgage Median Value Los Angeles to Las Vegas\")\n",
    "plt.xlabel(\"Census Year\")\n",
    "plt.ylabel(\"Median Mortgage Value\")"
   ]
  },
  {
   "cell_type": "code",
   "execution_count": 15,
   "metadata": {},
   "outputs": [],
   "source": [
    "#Las Vegas info for bar graph\n",
    "med_value = [265100, 172300, 291300]\n",
    "x_axis = np.arange(len(med_value))\n",
    "years=[\"2010\", \"2015\", \"2020\"]"
   ]
  },
  {
   "cell_type": "code",
   "execution_count": 16,
   "metadata": {},
   "outputs": [
    {
     "data": {
      "text/plain": [
       "<BarContainer object of 3 artists>"
      ]
     },
     "execution_count": 16,
     "metadata": {},
     "output_type": "execute_result"
    },
    {
     "data": {
      "image/png": "[encoded data removed]",
      "text/plain": [
       "<Figure size 432x288 with 1 Axes>"
      ]
     },
     "metadata": {
      "needs_background": "light"
     },
     "output_type": "display_data"
    }
   ],
   "source": [
    "# Tell matplotlib that we will be making a bar chart\n",
    "# Users is our y axis and x_axis is, of course, our x axis\n",
    "# We apply align=\"edge\" to ensure our bars line up with our tick marks\n",
    "plt.bar(x_axis, med_value, color='r', alpha=0.5, align=\"center\")"
   ]
  },
  {
   "cell_type": "code",
   "execution_count": 17,
   "metadata": {},
   "outputs": [
    {
     "data": {
      "text/plain": [
       "([<matplotlib.axis.XTick at 0x273b6189908>,\n",
       "  <matplotlib.axis.XTick at 0x273b6189c50>,\n",
       "  <matplotlib.axis.XTick at 0x273b61a97f0>],\n",
       " [Text(0, 0, '2010'), Text(0, 0, '2015'), Text(0, 0, '2020')])"
      ]
     },
     "execution_count": 17,
     "metadata": {},
     "output_type": "execute_result"
    },
    {
     "data": {
      "image/png": "[encoded data removed]",
      "text/plain": [
       "<Figure size 432x288 with 1 Axes>"
      ]
     },
     "metadata": {
      "needs_background": "light"
     },
     "output_type": "display_data"
    }
   ],
   "source": [
    "# Tell matplotlib where we would like to place each of our x axis headers\n",
    "tick_locations = [value for value in x_axis]\n",
    "plt.xticks(tick_locations, years)"
   ]
  },
  {
   "cell_type": "code",
   "execution_count": 18,
   "metadata": {},
   "outputs": [
    {
     "data": {
      "text/plain": [
       "(-0.75, 2.75)"
      ]
     },
     "execution_count": 18,
     "metadata": {},
     "output_type": "execute_result"
    },
    {
     "data": {
      "image/png": "[encoded data removed]",
      "text/plain": [
       "<Figure size 432x288 with 1 Axes>"
      ]
     },
     "metadata": {
      "needs_background": "light"
     },
     "output_type": "display_data"
    }
   ],
   "source": [
    "# Sets the x limits of the current chart\n",
    "#plt.xlim(-0.75, len(x_axis)-0.25)"
   ]
  },
  {
   "cell_type": "code",
   "execution_count": 18,
   "metadata": {},
   "outputs": [
    {
     "data": {
      "text/plain": [
       "Text(0, 0.5, 'Median Mortgage Value')"
      ]
     },
     "execution_count": 18,
     "metadata": {},
     "output_type": "execute_result"
    },
    {
     "data": {
      "image/png": "[encoded data removed]",
      "text/plain": [
       "<Figure size 432x288 with 1 Axes>"
      ]
     },
     "metadata": {
      "needs_background": "light"
     },
     "output_type": "display_data"
    }
   ],
   "source": [
    "# Give our chart some labels and a tile\n",
    "plt.title(\"Mortgage Median Value Los Angeles to Las Vegas\")\n",
    "plt.xlabel(\"Census Year\")\n",
    "plt.ylabel(\"Median Mortgage Value\")"
   ]
  }
 ],
 "metadata": {
  "interpreter": {
   "hash": "e5898a40ac1bc55161c2b54e62bd79c8b1a24ee26972e08bccb36328cd6b373a"
  },
  "kernelspec": {
   "display_name": "Python 3",
   "language": "python",
   "name": "python3"
  },
  "language_info": {
   "codemirror_mode": {
    "name": "ipython",
    "version": 3
   },
   "file_extension": ".py",
   "mimetype": "text/x-python",
   "name": "python",
   "nbconvert_exporter": "python",
   "pygments_lexer": "ipython3",
   "version": "3.6.10"
  }
 },
 "nbformat": 4,
 "nbformat_minor": 2
}
